{
 "cells": [
  {
   "cell_type": "markdown",
   "metadata": {},
   "source": [
    "Python for Bioinformatics, Practical Classes 2"
   ]
  },
  {
   "cell_type": "markdown",
   "metadata": {},
   "source": [
    "<h3> Lambda+map/filter "
   ]
  },
  {
   "cell_type": "markdown",
   "metadata": {},
   "source": [
    "<h4> Exercise1: Let's define a list of sequences [\"ATGGGG\", \"AAATT\", \"GGGATAGAGA\", \"GAGAT\"] and in the next step create  a new list which elements are lengths for each sequence -> [6, 5, 10, 5]."
   ]
  },
  {
   "cell_type": "code",
   "execution_count": 1,
   "metadata": {},
   "outputs": [
    {
     "name": "stdout",
     "output_type": "stream",
     "text": [
      "[6, 5, 10, 5]\n"
     ]
    }
   ],
   "source": [
    "sequences = [\"ATGGGG\", \"AAATT\", \"GGGATAGAGA\", \"GAGAT\"]\n",
    "\n",
    "len_lambda = list(map(lambda a: len(a),sequences))  #apply lambda expression for every element in x\n",
    "print(len_lambda)"
   ]
  },
  {
   "cell_type": "markdown",
   "metadata": {},
   "source": [
    "<h4> Exercise2: Let's define a list of sequences [\"ATGGGG\", \"AAATT\", \"GGGATAGAGA\", \"GAGAT\"] and in the next step create  a new list which contains only these sequences which starts with \"G\" -> [\"GGGATAGAGA\", \"GAGAT\"]."
   ]
  },
  {
   "cell_type": "code",
   "execution_count": 2,
   "metadata": {},
   "outputs": [
    {
     "data": {
      "text/plain": [
       "['GGGATAGAGA', 'GAGAT']"
      ]
     },
     "execution_count": 2,
     "metadata": {},
     "output_type": "execute_result"
    }
   ],
   "source": [
    "seq_g = [seq for seq in sequences if seq.startswith('G')]\n",
    "seq_g"
   ]
  },
  {
   "cell_type": "markdown",
   "metadata": {},
   "source": [
    "<h3> FASTA files processing"
   ]
  },
  {
   "cell_type": "markdown",
   "metadata": {},
   "source": [
    "<h4> Example: Printing headings from a file containing sequences in FASTA format."
   ]
  },
  {
   "cell_type": "code",
   "execution_count": 3,
   "metadata": {},
   "outputs": [
    {
     "name": "stdout",
     "output_type": "stream",
     "text": [
      ">s1\n",
      ">s2\n",
      ">s3\n"
     ]
    }
   ],
   "source": [
    "with open('sequences', 'r') as f:\n",
    "    for line in f:  #for every line in sequences file\n",
    "        line = line.rstrip() #The rstrip() method removes characters at the end a string (including \"\\n\")\n",
    "        if line.startswith('>'):\n",
    "            print(line)\n",
    "        "
   ]
  },
  {
   "cell_type": "code",
   "execution_count": 4,
   "metadata": {},
   "outputs": [
    {
     "name": "stdout",
     "output_type": "stream",
     "text": [
      ">s1\n",
      "\n",
      "ATGCGCG\n",
      "\n",
      ">s2\n",
      "\n",
      "TATCGGCG\n",
      "\n",
      ">s3\n",
      "\n",
      "CCCCCCCCCC\n"
     ]
    }
   ],
   "source": [
    "f = open(\"sequences\", \"r\")\n",
    "for line in f:\n",
    "    print(line)"
   ]
  },
  {
   "cell_type": "markdown",
   "metadata": {},
   "source": [
    "<h4> Exercise3: Open a file 'sequneces' and save sequences into the dictionary variable Seq.\n",
    "\n",
    " <br>\n",
    " \n",
    "Remark: You may start with creating two lists containing headings and sequences and in the next step convert them into a dictionary."
   ]
  },
  {
   "cell_type": "code",
   "execution_count": 5,
   "metadata": {},
   "outputs": [],
   "source": [
    "def seq_to_dict(file_name):\n",
    "    headers=[]\n",
    "    seqs=[]\n",
    "    with open(\"sequences\") as f:\n",
    "        for line in f:\n",
    "            line = line.strip('\\n')\n",
    "            if line.startswith('>'):\n",
    "                line = line.replace('>','')\n",
    "                headers.append(line)\n",
    "            else:\n",
    "                seqs.append(line)\n",
    "    return dict(zip(headers, seqs))"
   ]
  },
  {
   "cell_type": "code",
   "execution_count": 6,
   "metadata": {},
   "outputs": [
    {
     "data": {
      "text/plain": [
       "{'s1': 'ATGCGCG', 's2': 'TATCGGCG', 's3': 'CCCCCCCCCC'}"
      ]
     },
     "execution_count": 6,
     "metadata": {},
     "output_type": "execute_result"
    }
   ],
   "source": [
    "seq_to_dict(sequences)\n"
   ]
  },
  {
   "cell_type": "markdown",
   "metadata": {},
   "source": [
    "<h3> Searching the set of Sequences"
   ]
  },
  {
   "cell_type": "markdown",
   "metadata": {},
   "source": [
    "In the next three exercises, we will be searching a text file containing sequences."
   ]
  },
  {
   "cell_type": "markdown",
   "metadata": {},
   "source": [
    "<h4> Exercise4: Consider the following nucleotide sequence:"
   ]
  },
  {
   "cell_type": "code",
   "execution_count": 7,
   "metadata": {},
   "outputs": [],
   "source": [
    "query = \"ATGCAACATATGCGACAAATGCTATTCTTATTATATTCGGATTC\"\n",
    "from alignment import SequenceAlign, dotMatrix\n",
    "import matplotlib.pyplot as plt"
   ]
  },
  {
   "cell_type": "code",
   "execution_count": 8,
   "metadata": {},
   "outputs": [],
   "source": [
    "def extract_seq(filename):\n",
    "    seqs=[]\n",
    "    with open(filename) as f:\n",
    "        for line in f:\n",
    "            line = line.strip('\\n')\n",
    "            if line.startswith('>')==False:\n",
    "                seqs.append(line)\n",
    "    return seqs\n",
    "def aligment_query_file(filename,query):\n",
    "    scores=[]\n",
    "    seqs = extract_seq(filename)\n",
    "    for elem in seqs:\n",
    "        scores.append(SequenceAlign(query, elem, insert=1, extend=1)[0])\n",
    "    seq_score= dict(zip(seqs, scores))\n",
    "    max_values = sorted(seq_score, key=seq_score.get, reverse=True)[:3]\n",
    "    plt.hist(scores)\n",
    "    return max_values"
   ]
  },
  {
   "cell_type": "code",
   "execution_count": 9,
   "metadata": {
    "scrolled": false
   },
   "outputs": [
    {
     "name": "stdout",
     "output_type": "stream",
     "text": [
      "The three best aligments for the query is  ['ATGCGACATATGCGACAAATGCTATTCTTATTATATCGGATTC', 'ATACAACATATGCGACAAATGCTATTCTTATTATATTCGATTC', 'ATGCAACATATGCGACAAATGCTTCTTATTCTATTCGGATTC']\n"
     ]
    },
    {
     "data": {
      "image/png": "[encoded data removed]",
      "text/plain": [
       "<Figure size 640x480 with 1 Axes>"
      ]
     },
     "metadata": {},
     "output_type": "display_data"
    }
   ],
   "source": [
    "print(f'The three best aligments for the query is  {aligment_query_file(\"database_n\",query)}')"
   ]
  },
  {
   "cell_type": "markdown",
   "metadata": {},
   "source": [
    "<h4> File \"database_n\" contains 100 nucleotide sequences. \n",
    "<br>\n",
    "    \n",
    "Make an alignment between every subsequent sequence in the file and the query (assume the following system points: match:1, mismatch:-3, insert=1, extend=1). \n",
    "    \n",
    "- Which sequences are the most similar to the query? You may plot the distributions of scores using plt.hist(data) method."
   ]
  },
  {
   "cell_type": "markdown",
   "metadata": {},
   "source": [
    "<h4> Exercise5: Consider the following protein sequence:"
   ]
  },
  {
   "cell_type": "code",
   "execution_count": 10,
   "metadata": {},
   "outputs": [],
   "source": [
    "query = \"EKPDPHTKMHQYWLKPYELMEIYYQYRPFINFDQQMRVGLRCEA\"\n",
    "from kmers import k_comparison, kmers"
   ]
  },
  {
   "cell_type": "code",
   "execution_count": 11,
   "metadata": {},
   "outputs": [],
   "source": [
    "def kmers_query_file(filename,query):\n",
    "    distances=[]\n",
    "    proteins = extract_seq(filename)\n",
    "    for elem in proteins:\n",
    "        distances.append(k_comparison(query,elem))\n",
    "    protein_score= dict(zip(proteins, distances))\n",
    "    max_values = sorted(protein_score, key=protein_score.get, reverse=False)[:3]\n",
    "    plt.hist(distances)\n",
    "    return max_values"
   ]
  },
  {
   "cell_type": "code",
   "execution_count": 12,
   "metadata": {
    "scrolled": false
   },
   "outputs": [
    {
     "name": "stdout",
     "output_type": "stream",
     "text": [
      "The three sequences that are the most similar to our query -  ['AKPDPHTKKHQYWLKPYELMEIYYQYRPFINFDQMRVGLRCEA', 'EKPHTKMHQYWLKPYELMEIYYQYRPFINDDQQMRVGLCEA', 'EKPDPHTKMHQYWLKPYELYRPFINFDQQMRVMLRCEA']\n"
     ]
    },
    {
     "data": {
      "image/png": "[encoded data removed]",
      "text/plain": [
       "<Figure size 640x480 with 1 Axes>"
      ]
     },
     "metadata": {},
     "output_type": "display_data"
    }
   ],
   "source": [
    "print(f'The three sequences that are the most similar to our query -  {kmers_query_file(\"database_p\",query)}')\n"
   ]
  },
  {
   "cell_type": "markdown",
   "metadata": {},
   "source": [
    "<h4> File \"database_p\" contains 100 protein sequences. \n",
    "<br>\n",
    "    \n",
    "\n",
    "    \n",
    "Using k-mers with k=3, compare every sequence in the file and the query (you may use k_comparison method from the lecture2). \n",
    "    \n",
    "- Which sequences are the most similar to the query? You may plot the distributions of distances using plt.hist(data) method. \n",
    "\n",
    "- What are the advantages and disadvatages of such an approach comparing to the alignment approach?  \n",
    "    \n",
    "- In the nucleotide case, the $k$ parameter should be bigger or smaller? Why?"
   ]
  },
  {
   "cell_type": "markdown",
   "metadata": {},
   "source": [
    "<h4> Exercise6: Consider the following protein subsequence:"
   ]
  },
  {
   "cell_type": "code",
   "execution_count": 13,
   "metadata": {},
   "outputs": [],
   "source": [
    "query = \"WRQAAALQK\"\n",
    "from kmers import k_comparison, kmers"
   ]
  },
  {
   "cell_type": "code",
   "execution_count": 14,
   "metadata": {},
   "outputs": [],
   "source": [
    "def kmers_check_query_file(filename,query):\n",
    "    kmers_matches=[]\n",
    "    query_kmers = kmers(query)\n",
    "    proteins = extract_seq(filename)\n",
    "    for elem in proteins: \n",
    "        seq_kmers = kmers(elem)\n",
    "        matches = 0\n",
    "        for key, value in query_kmers.items():\n",
    "            if key in seq_kmers and seq_kmers[key] == value:\n",
    "                matches += 1\n",
    "        kmers_matches.append(matches)\n",
    "    kmers_score= dict(zip(proteins, kmers_matches))\n",
    "    max_values = sorted(kmers_score, key=kmers_score.get, reverse=True)[:3]\n",
    "    return max_values\n",
    "        "
   ]
  },
  {
   "cell_type": "code",
   "execution_count": 15,
   "metadata": {
    "scrolled": true
   },
   "outputs": [
    {
     "name": "stdout",
     "output_type": "stream",
     "text": [
      "The three sequences with the highest amount of kmers same as our query -  ['TFCMMQKWVMLAPECGGHVCCSHPPTMEACGSHRVWPQDLDQGLQRKEPRLWTAQWPKMRMNFLAFWEKMWRRFCRIARGWLAAFIDDQQAEIHHHCATGMYNSQPNWWISKFMYFRGRSIDHCFQDLPMRFSMRLCGNYKGRQQNRPYFFWQFYMLWHETDSHVGRQMDDKCQFMRLRMWRQAAALQKTVVYCMCYQGDIGEKCELKGNCMPWNWRRLPMYIEQYFRSNSTYCLYVWMPSIKDHEFPGIDLRGCGNCVLADPHVGIANQGDGCCNMRCFACHSPIHIECQYAFVRTWWEQASSCYLVTPLTTLGKSMKPRVSHFGCYYGQALCQDWIFGANWKSINTAQRDSCKDMDICEYYMDCPQHWGSWWMLCIALVKIDDMMYCSETFDLKCAMQ', 'RRTNFGDTEHYVFEMNFYYETVWSPFMRCFAVEGYDFIFITFLQSESTECRFPAQHLECTDFDSRIEFCKKNFGATGLFKYRKDIYAYHVHTFIDRNKDHLEMCLMPVRHAELQFFGQRCMHNDARCWKWFGWFLEKLCTYYPCVLICDWVVSDPNDGRGYDVLNSSCLAQGYCNCLDVEVCCPCYWRQAALQKRHVHYLGHNHYAVPIHDLRQPPMYDHDAFDYPVFNMVMSKKCHSYIEWFQRIGRVNTMVWYRRTWDMVNEQTNCSCHFWLRMAGDKYISFVSNFYMYELEYMTCTIEESHAEFKPYGKPHGFYPMRASCQDNLGHYDAGFIGYMEQKHCYEYWKWHCRCFKRRLNHHLYNGPSEHEHFMVHCYDMYCPKVFHEPHAVWFQVTKVHFLAACVKIADVQYNAYMHIDSRLNMGLTTATKLQ', 'SGACMVFPEKCDYCSSTCGWGYYCAKYHSCAFAVAYRRNWEREQSAARPWQGERESWLAALELPPMDSTHNKFRDYLLFQYYFSGHKPRKQSYGEQEISTCFTGSPHGIFMAIKKLYMLWTQNEKWTNTHGKTRNKVNIHMQMAPRWYFLMIRRTQYNEKSSRFYHFAEGVMDCCRPKVGTSPTHVMYNNHNVAYHRALQKQAAALWRQKGSSYECVTSHTNDWLKTMEWYRYQLGCRCEHHMGVRSAQNEGQTNVAYQHCPSQETSIFQWMRHNHYVVTHKWDVFGVYPNFFHFPYGWILCLSHGCDFTSRYACFHRFFGQWFARNGIPYGCGPGKSMKFPLPLWGEYHCYEPPRIMCEGMTKIQVKLGGPGLICMGTRVHPMHHTLGIKFN']\n"
     ]
    }
   ],
   "source": [
    "print(f'The three sequences with the highest amount of kmers same as our query -  {kmers_check_query_file(\"database_p2\",query)}')"
   ]
  },
  {
   "cell_type": "markdown",
   "metadata": {},
   "source": [
    "<h4> File \"database_p2\" contains 100 longer protein sequences. \n",
    "\n",
    "<h4> Using k-mers with k=3 compare every sequence in the file and the query - check which k-mers that are present in the query are present in the sequences from the file. As a result, for the comparison between two sequences you obtain the total number of k-mers shared between sequences (so if k-mer is present add 1).\n",
    "    \n",
    "<br>\n",
    "    \n",
    "    \n",
    "- Which sequences are the query sequence possibly derived from? Localize the query fragments.\n",
    "- Look at these sequences and make a comment on it."
   ]
  },
  {
   "cell_type": "markdown",
   "metadata": {},
   "source": [
    "<h3> MSA and Phylogeny"
   ]
  },
  {
   "cell_type": "code",
   "execution_count": 16,
   "metadata": {},
   "outputs": [],
   "source": [
    "def Consensus(alignment, threshold = 0.3):\n",
    "    \"\"\"\n",
    "    This function returns a consensus\n",
    "    sequence for the list of sequneces\n",
    "    (alignment)\n",
    "    \"\"\"\n",
    "    \n",
    "    n = len(alignment[0]) #the length of an alignment\n",
    "    nS = len(alignment) #number of sequences\n",
    "    consensus_sequence = '' #here, there will be a consensus sequence\n",
    "    \n",
    "    for i in range(n):\n",
    "        \n",
    "        how_many = {}   \n",
    "        \n",
    "        for seq in alignment:\n",
    "            residue = seq[i]            \n",
    "            if residue == '-':\n",
    "                continue               \n",
    "            how_many[residue] = how_many.get(residue, 0) + 1            \n",
    "            fractions = []\n",
    "        \n",
    "        for residue in how_many:            \n",
    "            frac = how_many[residue]/nS \n",
    "            fractions.append([frac, residue])\n",
    "            \n",
    "        fractions.sort()\n",
    "        \n",
    "        bestFraction, bestResidue = fractions[-1]\n",
    "        \n",
    "        if bestFraction < threshold:\n",
    "            consensus_sequence += 'X'\n",
    "        else:\n",
    "            consensus_sequence += bestResidue\n",
    "            \n",
    "    return consensus_sequence"
   ]
  },
  {
   "cell_type": "code",
   "execution_count": 17,
   "metadata": {},
   "outputs": [
    {
     "name": "stdout",
     "output_type": "stream",
     "text": [
      "HXFSEXAVIXLIIFGVMAGVIGTILLISYGIRRLIK\n"
     ]
    }
   ],
   "source": [
    "alignment = ['TVPAPVAVIILIILCVMAGIIGTILLISYTIRRLIK',\n",
    "             'HHFSEPAEITLIIFGVMAGVIGTILLISYGIRRLIK',\n",
    "             'HEFSEL-VIALIIFGVMAGVIGTILFISYGSRRLIK']\n",
    "\n",
    "print(Consensus(alignment, threshold = 0.5))  "
   ]
  },
  {
   "cell_type": "markdown",
   "metadata": {},
   "source": [
    "<h4> Profile"
   ]
  },
  {
   "cell_type": "code",
   "execution_count": 18,
   "metadata": {},
   "outputs": [],
   "source": [
    "def Profile(alignment):\n",
    "    \n",
    "    n = len(alignment[0])\n",
    "    nS = len(alignment)\n",
    "    profile = []\n",
    "    \n",
    "    for i in range(n):\n",
    "        \n",
    "        how_many = {}\n",
    "        \n",
    "        for seq in alignment:\n",
    "            residue = seq[i]\n",
    "            \n",
    "            if residue == '-':\n",
    "                continue\n",
    "                \n",
    "            how_many[residue] = how_many.get(residue, 0) + 1 \n",
    "            \n",
    "        for residue in how_many:\n",
    "            how_many[residue] /= nS\n",
    "            \n",
    "        profile.append(how_many)\n",
    "        \n",
    "    return profile"
   ]
  },
  {
   "cell_type": "code",
   "execution_count": 19,
   "metadata": {
    "scrolled": true
   },
   "outputs": [
    {
     "name": "stdout",
     "output_type": "stream",
     "text": [
      "[{'S': 0.25, 'T': 0.25, 'H': 0.5}, {'A': 0.75}, {'R': 0.25, 'V': 0.25, 'H': 0.25, 'E': 0.25}, {'P': 0.5, 'F': 0.5}, {'A': 0.5, 'S': 0.5}, {'P': 0.5, 'E': 0.5}, {'V': 0.5, 'P': 0.25, 'L': 0.25}, {'V': 0.75, 'E': 0.25}, {'I': 1.0}, {'I': 0.5, 'T': 0.25, 'A': 0.25}, {'L': 1.0}]\n"
     ]
    }
   ],
   "source": [
    "alignment = ['S-RPAPVVIIL',\n",
    "             'TAVPAPVVIIL',\n",
    "             'HAHFSEPEITL',\n",
    "             'HAEFSELVIAL']\n",
    "\n",
    "print(Profile(alignment))"
   ]
  },
  {
   "cell_type": "markdown",
   "metadata": {},
   "source": [
    "<h4> Exercise7: According to the Profile, what is the probability of observing the following sequences:\n",
    "        \n",
    "- TARPSPVEIAL \n",
    "- TARPSPVEIAA "
   ]
  },
  {
   "cell_type": "code",
   "execution_count": 20,
   "metadata": {},
   "outputs": [],
   "source": [
    "def probability_from_profile(list_of_seqs):\n",
    "    list_of_prob=[]\n",
    "    for elem in list_of_seqs:\n",
    "        list_of_prob_seq=[]\n",
    "        for i in range(len(elem)):\n",
    "            list_of_prob_seq.append(Profile(alignment)[i].get(elem[i], 0))\n",
    "        probability = 1\n",
    "        for i in list_of_prob_seq:\n",
    "            probability *= i\n",
    "        list_of_prob.append(probability)\n",
    "        prob_seq= dict(zip(list_of_seqs, list_of_prob))\n",
    "    return prob_seq\n",
    "\n",
    "            "
   ]
  },
  {
   "cell_type": "code",
   "execution_count": 21,
   "metadata": {},
   "outputs": [
    {
     "data": {
      "text/plain": [
       "{'TARPSPVEIAL': 0.00018310546875, 'TARPSPVEIAA': 0.0}"
      ]
     },
     "execution_count": 21,
     "metadata": {},
     "output_type": "execute_result"
    }
   ],
   "source": [
    "list_of_seqs = [\"TARPSPVEIAL\",\"TARPSPVEIAA\"]\n",
    "probability_from_profile(list_of_seqs)"
   ]
  },
  {
   "cell_type": "code",
   "execution_count": 22,
   "metadata": {},
   "outputs": [
    {
     "name": "stdout",
     "output_type": "stream",
     "text": [
      "['BLOSUM62', 'DNA_1', 'DNA_2', 'SequenceAlign', '__builtins__', '__cached__', '__doc__', '__file__', '__loader__', '__name__', '__package__', '__spec__']\n"
     ]
    }
   ],
   "source": [
    "import practical1 #import some python functions from previous practical classes\n",
    "print(dir(practical1))  #what is inside a file?"
   ]
  },
  {
   "cell_type": "code",
   "execution_count": 23,
   "metadata": {},
   "outputs": [],
   "source": [
    "from practical1 import BLOSUM62, DNA_2, SequenceAlign #let's import DNA_2/BLOSU62 variables and SequenceAlign function"
   ]
  },
  {
   "cell_type": "code",
   "execution_count": 24,
   "metadata": {},
   "outputs": [],
   "source": [
    "def ProfileAlign(profileA, profileB, simiarityMatrix = DNA_2, insert=3, extend=1):\n",
    "    \n",
    "    import numpy as np\n",
    "    \n",
    "    numI = len(profileA) + 1\n",
    "    numJ = len(profileB) + 1\n",
    "    \n",
    "    SMatrix = np.zeros((numI, numJ))\n",
    "    RMatrix = np.zeros((numI, numJ))\n",
    "    \n",
    "    for i in range(1, numI):\n",
    "        RMatrix[i,0] = 1\n",
    "        \n",
    "    for j in range(1, numJ):\n",
    "        RMatrix[0,j] = 2\n",
    "\n",
    "    for i in range(1, numI):\n",
    "        for j in range(1, numJ):\n",
    "            \n",
    "            penalty1 = insert\n",
    "            penalty2 = insert\n",
    "            \n",
    "            if RMatrix[i-1, j] == 1:\n",
    "                penalty1 = extend\n",
    "                \n",
    "            elif RMatrix[i, j-1] == 2:\n",
    "                penalty2 = extend\n",
    "                \n",
    "            frac_A = profileA[i-1]\n",
    "            frac_B = profileB[j-1]\n",
    "            \n",
    "            similarity = 0\n",
    "            totalWeight = 0\n",
    "            \n",
    "            for residue_A in frac_A:\n",
    "                for residue_B in frac_B:\n",
    "                    \n",
    "                    weight = frac_A[residue_A] * frac_B[residue_B]\n",
    "                    totalWeight += weight\n",
    "                    similarity += weight * simiarityMatrix[residue_A][residue_B]\n",
    "                    \n",
    "            penalty1 *= totalWeight\n",
    "            penalty2 *= totalWeight\n",
    "            \n",
    "            paths = [SMatrix[i-1, j-1] + similarity,\n",
    "                     SMatrix[i-1, j] - penalty1,\n",
    "                     SMatrix[i, j-1] - penalty2]\n",
    "            \n",
    "            best = max(paths) #maximum value of paths list\n",
    "            route = paths.index(best) #index where maximum value\n",
    "            \n",
    "            SMatrix[i, j] = best\n",
    "            RMatrix[i, j] = route\n",
    "            \n",
    "        pA = []\n",
    "        pB = []\n",
    "        \n",
    "        i = numI-1\n",
    "        j = numJ-1\n",
    "        \n",
    "        score = SMatrix[i, j]\n",
    "        \n",
    "        while i > 0 or j > 0:\n",
    "            route = RMatrix[i, j]\n",
    "            if route == 0: \n",
    "                pA.append(profileA[i-1])\n",
    "                pB.append(profileB[j-1])\n",
    "                i -= 1\n",
    "                j -= 1\n",
    "            elif route == 1: \n",
    "                pA.append(profileA[i-1])\n",
    "                pB.append(None)\n",
    "                i -= 1\n",
    "            elif route == 2: \n",
    "                pA.append(None)\n",
    "                pB.append(profileB[j-1])\n",
    "                j -= 1\n",
    "                \n",
    "    pA.reverse()\n",
    "    pB.reverse()\n",
    "    \n",
    "    return score, pA, pB"
   ]
  },
  {
   "cell_type": "code",
   "execution_count": 25,
   "metadata": {},
   "outputs": [
    {
     "name": "stdout",
     "output_type": "stream",
     "text": [
      "10.5\n",
      "[None, None, None, {'S': 0.5, 'T': 0.5}, {'R': 0.5, 'V': 0.5}, {'P': 1.0}, {'A': 1.0}, {'P': 1.0}, {'V': 1.0}, {'V': 1.0}, {'I': 0.5}, {'I': 0.5}, {'L': 1.0}, {'I': 1.0}, {'I': 1.0}, None]\n",
      "[{'H': 1.0}, {'H': 0.5}, {'F': 1.0}, {'S': 1.0}, None, None, {'E': 1.0}, {'P': 0.5, 'L': 0.5}, {'E': 0.5, 'V': 0.5}, {'I': 1.0}, None, {'T': 0.5, 'A': 0.5}, {'L': 1.0}, {'I': 1.0}, {'I': 1.0}, {'F': 1.0}]\n"
     ]
    }
   ],
   "source": [
    "A = ['SRPAPVV--LII',  'TVPAPVVIILII']\n",
    "B = ['HHFSEPEITLIIF', 'H-FSELVIALIIF']\n",
    "\n",
    "score, pA, pB = ProfileAlign(Profile(A), Profile(B), BLOSUM62)\n",
    "\n",
    "print(score)\n",
    "print(pA)\n",
    "print(pB)"
   ]
  },
  {
   "cell_type": "markdown",
   "metadata": {},
   "source": [
    "which correspond to :\n",
    "\n",
    "\n",
    "---SRPAPVV--LII-\n",
    "\n",
    "---TVPAPVVIILII-\n",
    "\n",
    "HHFSE--PEIT-LIIF\n",
    "\n",
    "H-FSE--LVIA-LIIF"
   ]
  },
  {
   "cell_type": "markdown",
   "metadata": {},
   "source": [
    "<h4> Profile Multiple Sequence Alignment\n",
    "   <br> \n",
    "    \n",
    "    \n",
    "Algorithm:\n",
    "- make an alignment between the first two sequences\n",
    "- make a profile from current sequences\n",
    "- convert the next sequence into a profile\n",
    "- compare profiles\n",
    "- repeat three last steps"
   ]
  },
  {
   "cell_type": "code",
   "execution_count": 26,
   "metadata": {},
   "outputs": [],
   "source": [
    "def ProfileMultipleAlignment(seqs, similarityMatrix = DNA_2):\n",
    "    \"\"\"\n",
    "    This function returns Multiple Sequence Alignment (MSA)\n",
    "    for a given list of sequences using profiles.\n",
    "    \"\"\"\n",
    "    n = len(seqs)\n",
    "    \n",
    "    score, alignA, alignB = SequenceAlign(seqs[0], seqs[1], similarityMatrix) #alignment for two first sequences\n",
    "    \n",
    "    MSA = [alignA, alignB]\n",
    "    \n",
    "    for i in range(2,n):\n",
    "        \n",
    "        profA = Profile(MSA)\n",
    "        toAdd = [seqs[i],] #the next sequence (3d, 4th and so on)\n",
    "        profB = Profile(toAdd)\n",
    "        score, alignA, alignB = ProfileAlign(profA, profB, similarityMatrix) #alignment between two profiles\n",
    "        \n",
    "        gaps = []\n",
    "        \n",
    "        for j, frac in enumerate(alignA):\n",
    "            if frac is None:\n",
    "                gaps.append(j)\n",
    "                \n",
    "        for j, seq in enumerate(MSA):\n",
    "            for gap in gaps:\n",
    "                seq = seq[:gap] + '-' + seq[gap:]\n",
    "                MSA[j] = seq\n",
    "                \n",
    "        gaps = []\n",
    "        \n",
    "        for j, frac in enumerate(alignB):\n",
    "            if frac is None:\n",
    "                gaps.append(j)\n",
    "                \n",
    "        for j, seq in enumerate(toAdd):\n",
    "            for gap in gaps:\n",
    "                seq = seq[:gap] + '-' + seq[gap:]\n",
    "            toAdd[j] = seq\n",
    "    \n",
    "        MSA.extend(toAdd)\n",
    "        \n",
    "    return MSA"
   ]
  },
  {
   "cell_type": "code",
   "execution_count": 45,
   "metadata": {},
   "outputs": [
    {
     "name": "stdout",
     "output_type": "stream",
     "text": [
      "0 ---SRPAPVV--LIILCVMAGVIGTI--LLISYGIRLLIK\n",
      "1 ---TVPAPVVIILIILCVMAGIIGTILLLIISYTIRRLIK\n",
      "2 HHFSEP-EIT--LIIFGVMAGVIGTILLLIISYGIR-LIK\n",
      "3 -HFS---ELVIALIIFGVMAGVIGTI--LFISYGSR-LIK\n"
     ]
    }
   ],
   "source": [
    "sequences = ['SRPAPVVLIILCVMAGVIGTILLISYGIRLLIK',\n",
    "             'TVPAPVVIILIILCVMAGIIGTILLLIISYTIRRLIK',\n",
    "             'HHFSEPEITLIIFGVMAGVIGTILLLIISYGIRLIK',\n",
    "             'HFSELVIALIIFGVMAGVIGTILFISYGSRLIK']\n",
    "\n",
    "align = ProfileMultipleAlignment(sequences, BLOSUM62)\n",
    "\n",
    "for k, seq in enumerate(align):\n",
    "    print(k, seq)"
   ]
  },
  {
   "cell_type": "markdown",
   "metadata": {},
   "source": [
    "<h4> Conservation (when MSA given)"
   ]
  },
  {
   "cell_type": "code",
   "execution_count": 28,
   "metadata": {},
   "outputs": [],
   "source": [
    "def Conservation(align, similarityMatrix = DNA_2):\n",
    "    \n",
    "    \"\"\"\n",
    "    This functions returns a list of numbers which indicate\n",
    "    on the conservation of subsequent position. 1 means that\n",
    "    the same residue is in all aligned sequences.\n",
    "    \"\"\"\n",
    "    \n",
    "    conservation = []\n",
    "    prof = Profile(align)\n",
    "    \n",
    "    for elem in prof:\n",
    "        \n",
    "        items = list(elem.items())\n",
    "        items.sort(key = lambda x: x[1])\n",
    "        score = 0\n",
    "        for resA, compA in items:\n",
    "            for resB, compB in items:\n",
    "                score += compA*compB*similarityMatrix[resA][resB]\n",
    "                \n",
    "        bestLetter = items[-1][0]\n",
    "        maxScore = similarityMatrix[bestLetter][bestLetter]\n",
    "        score /= maxScore\n",
    "        \n",
    "        conservation.append(score)\n",
    "        \n",
    "    return conservation"
   ]
  },
  {
   "cell_type": "code",
   "execution_count": 29,
   "metadata": {},
   "outputs": [
    {
     "name": "stdout",
     "output_type": "stream",
     "text": [
      "[1.0, -0.9591836734693877, 1.0, 1.0, 0.020408163265306145, 1.0, 1.0, 1.0, 0.020408163265306145, 0.020408163265306145, -0.9591836734693877, -0.9591836734693877, 1.0, 1.0, 1.0, 1.0, 1.0, 1.0, 1.0, 1.0, 1.0]\n"
     ]
    }
   ],
   "source": [
    "alignment = ['AAGCCGCACACAGACCCTGAG',\n",
    "             'AAGCTGCACGCAGACCCTGAG',\n",
    "             'AGGCTGCACGCAGACCCTGAG',\n",
    "             'AAGCTGCACGTGGACCCTGAG',\n",
    "             'AGGCTGCACGTGGACCCTGAG',\n",
    "             'AGGCTGCACGTGGACCCTGAG',\n",
    "             'AAGCTGCATGTGGACCCTGAG']\n",
    "\n",
    "print(Conservation(alignment, DNA_2))"
   ]
  },
  {
   "cell_type": "markdown",
   "metadata": {},
   "source": [
    "Explanation"
   ]
  },
  {
   "cell_type": "code",
   "execution_count": 30,
   "metadata": {},
   "outputs": [
    {
     "data": {
      "text/plain": [
       "(0.42857142857142855, 0.5714285714285714)"
      ]
     },
     "execution_count": 30,
     "metadata": {},
     "output_type": "execute_result"
    }
   ],
   "source": [
    "3/7, 4/7"
   ]
  },
  {
   "cell_type": "code",
   "execution_count": 31,
   "metadata": {},
   "outputs": [
    {
     "data": {
      "text/plain": [
       "-0.9591836734693877"
      ]
     },
     "execution_count": 31,
     "metadata": {},
     "output_type": "execute_result"
    }
   ],
   "source": [
    "0.42857142857142855*0.42857142857142855*1 +0.5714285714285714*0.5714285714285714*1+2*0.5714285714285714*0.42857142857142855*(-3)"
   ]
  },
  {
   "cell_type": "code",
   "execution_count": 32,
   "metadata": {},
   "outputs": [
    {
     "name": "stdout",
     "output_type": "stream",
     "text": [
      "[0.3037037037037037, 0.38271604938271603, 0.09259259259259259, 0.7978395061728395, 0.07818930041152262, 1.0, 0.6358024691358025, 0.10123456790123457, 0.3245149911816578, 0.271604938271605, 0.04938271604938271, 0.04938271604938271, 0.04938271604938271, 0.6265432098765432, 0.3364197530864198, 0.2345679012345679, 1.0, 1.0, 0.521604938271605, 0.2921810699588478, 1.0, 1.0, 0.7530864197530864, 1.0, 0.7901234567901234, 0.9012345679012346, 0.3991769547325103, 0.4444444444444445, 1.0, 0.8086419753086419, 0.5370370370370371, 0.9012345679012346, 0.6666666666666666, 0.8853615520282186, -0.010288065843621408, 0.4814814814814815, 0.36543209876543215, 0.4839506172839506, 0.7530864197530864, 0.32407407407407407, 1.0, 0.5160493827160494, 0.2006172839506173, 0.06172839506172839, 0.015432098765432098, 0.14609053497942384, 0.12654320987654322, 0.28641975308641976, 0.2627865961199295, 0.027777777777777776, 0.14814814814814814, 0.01763668430335097, 0.17283950617283952, 0.4444444444444444]\n"
     ]
    }
   ],
   "source": [
    "alignment2 = ['QPVHPFSRPAPVVIILIILCVMAGVIGTILLISYGIRLLIK-------------',\n",
    "              'QLVHRFTVPAPVVIILIILCVMAGIIGTILLISYTIRRLIK-------------',\n",
    "              'QLAHHFSEPE---ITLIIFGVMAGVIGTILLISYGIRRLIKKSPSDVKPLPSPD',\n",
    "              'QLVHEFSELV---IALIIFGVMAGVIGTILFISYGSRRLIKKSESDVQPLPPPD',\n",
    "              'MLEHEFSAPV---AILIILGVMAGIIGIILLISYSIGQIIKKRSVDIQPPEDED',\n",
    "              'PIQHDFPALV---MILIILGVMAGIIGTILLISYCISRMTKKSSVDIQSPEGGD',\n",
    "              'QLVHIFSEPV---IIGIIYAVMLGIIITILSIAFCIGQLTKKSSLPAQVASPED',\n",
    "              '-LAHDFSQPV---ITVIILGVMAGIIGIILLLAYVSRRLRKRP-----PADVP-',\n",
    "              'SYHQDFSHAE---ITGIIFAVMAGLLLIIFLIAYLIRRMIKKPLPVPKPQDSPD']\n",
    "\n",
    "print(Conservation(alignment2, BLOSUM62))"
   ]
  },
  {
   "cell_type": "code",
   "execution_count": 33,
   "metadata": {},
   "outputs": [
    {
     "name": "stdout",
     "output_type": "stream",
     "text": [
      "[0.3, 0.38, 0.09, 0.8, 0.08, 1.0, 0.64, 0.1, 0.32, 0.27, 0.05, 0.05, 0.05, 0.63, 0.34, 0.23, 1.0, 1.0, 0.52, 0.29, 1.0, 1.0, 0.75, 1.0, 0.79, 0.9, 0.4, 0.44, 1.0, 0.81, 0.54, 0.9, 0.67, 0.89, -0.01, 0.48, 0.37, 0.48, 0.75, 0.32, 1.0, 0.52, 0.2, 0.06, 0.02, 0.15, 0.13, 0.29, 0.26, 0.03, 0.15, 0.02, 0.17, 0.44]\n"
     ]
    }
   ],
   "source": [
    "cv = Conservation(alignment2, BLOSUM62)\n",
    "print(list(map(lambda x: round(x, 2), cv )))  #round to two digits"
   ]
  },
  {
   "cell_type": "code",
   "execution_count": 34,
   "metadata": {},
   "outputs": [
    {
     "data": {
      "image/png": "[encoded data removed]",
      "text/plain": [
       "<Figure size 2000x500 with 1 Axes>"
      ]
     },
     "metadata": {},
     "output_type": "display_data"
    }
   ],
   "source": [
    "#visualise the conservativity \n",
    "\n",
    "import matplotlib.pyplot as plt\n",
    "\n",
    "fig = plt.figure(figsize=(20, 5))\n",
    "plt.plot(cv)\n",
    "for xc in range(len(cv)):\n",
    "    plt.vlines(x = xc, ymin = 0, ymax = cv[xc], colors = 'purple')\n",
    "plt.xticks(range(len(cv)), list(Consensus(alignment2)))\n",
    "plt.xlabel(\"Consensus sequence\")\n",
    "plt.ylabel(\"Conservativity\")\n",
    "plt.show()"
   ]
  },
  {
   "cell_type": "markdown",
   "metadata": {},
   "source": [
    "<h4> MSA with a nice visualisation"
   ]
  },
  {
   "cell_type": "code",
   "execution_count": 35,
   "metadata": {},
   "outputs": [],
   "source": [
    "def AlignComparison(align, similarityMatrix, thresholds):\n",
    "    \n",
    "    similarity = ''\n",
    "    conservation = Conservation(align, similarityMatrix)\n",
    "    t_1, t_2, t_3 = thresholds\n",
    "    \n",
    "    for S in conservation:\n",
    "        if S >= t_1:\n",
    "            char = '*'\n",
    "        elif S >= t_2:\n",
    "            char = ':'\n",
    "        elif S >= t_3:\n",
    "            char = '.'\n",
    "        else:\n",
    "            char = ' '\n",
    "        similarity += char\n",
    "        \n",
    "    return similarity"
   ]
  },
  {
   "cell_type": "code",
   "execution_count": 36,
   "metadata": {},
   "outputs": [
    {
     "name": "stdout",
     "output_type": "stream",
     "text": [
      "QPVHPFSRPAPVVIILIILCVMAGVIGTILLISYGIRLLIK-------------\n",
      "QLVHRFTVPAPVVIILIILCVMAGIIGTILLISYTIRRLIK-------------\n",
      "QLAHHFSEPE---ITLIIFGVMAGVIGTILLISYGIRRLIKKSPSDVKPLPSPD\n",
      "QLVHEFSELV---IALIIFGVMAGVIGTILFISYGSRRLIKKSESDVQPLPPPD\n",
      "MLEHEFSAPV---AILIILGVMAGIIGIILLISYSIGQIIKKRSVDIQPPEDED\n",
      "PIQHDFPALV---MILIILGVMAGIIGTILLISYCISRMTKKSSVDIQSPEGGD\n",
      "QLVHIFSEPV---IIGIIYAVMLGIIITILSIAFCIGQLTKKSSLPAQVASPED\n",
      "-LAHDFSQPV---ITVIILGVMAGIIGIILLLAYVSRRLRKRP-----PADVP-\n",
      "SYHQDFSHAE---ITGIIFAVMAGLLLIIFLIAYLIRRMIKKPLPVPKPQDSPD\n",
      ".. : *: .    :. **: **:*::..*::::: ...:.*:           .\n"
     ]
    }
   ],
   "source": [
    "symbols = AlignComparison(alignment2, BLOSUM62, (1.0, 0.5, 0.3))\n",
    "\n",
    "for sequence in alignment2:\n",
    "    print(sequence)\n",
    "    \n",
    "print(symbols)"
   ]
  },
  {
   "cell_type": "markdown",
   "metadata": {},
   "source": [
    "<h4> Exercise8: Open the file \"sparc_sequences\" and perform the multiple sequence alignment (using profiles) and then, save it into the file adding at the end Align Comparison line. "
   ]
  },
  {
   "cell_type": "code",
   "execution_count": 37,
   "metadata": {},
   "outputs": [],
   "source": [
    "def align_coparison_file_to_file(filename,output_filename):\n",
    "    seq_list = extract_seq(filename)\n",
    "    align = ProfileMultipleAlignment(seq_list, BLOSUM62)\n",
    "    symbols = AlignComparison(align, BLOSUM62, (1.0, 0.5, 0.3))\n",
    "    with open(output_filename, 'w') as file:  \n",
    "        for sequence in align:\n",
    "            file.write(sequence + '\\n')\n",
    "        file.write(symbols + '\\n')"
   ]
  },
  {
   "cell_type": "code",
   "execution_count": 38,
   "metadata": {},
   "outputs": [],
   "source": [
    "align_coparison_file_to_file(\"sparc_sequences\",\"output.txt\")"
   ]
  },
  {
   "cell_type": "markdown",
   "metadata": {},
   "source": [
    "<h4> Distance matrices"
   ]
  },
  {
   "cell_type": "markdown",
   "metadata": {},
   "source": [
    "Idea: More similar sequences -> higher score -> smaller distance"
   ]
  },
  {
   "cell_type": "code",
   "execution_count": 39,
   "metadata": {},
   "outputs": [],
   "source": [
    "def Score(align1, align2, similarityMatrix = DNA_2, gap = 3):\n",
    "    n = len(align1)\n",
    "    S = 0\n",
    "    for i in range(n):\n",
    "        if align1[i] == '-' or align2[i] == '-':\n",
    "            S -= gap\n",
    "        else:\n",
    "            S += similarityMatrix[align1[i]][align2[i]]\n",
    "    return S\n",
    "            \n",
    "\n",
    "def SimMatrix(alignment, similarityMatrix = DNA_2, gap = 3):\n",
    "    import numpy as np\n",
    "    \n",
    "    n = len(alignment)\n",
    "    A = np.zeros((n,n))\n",
    "    for i in range(n):\n",
    "        for j in range(n):\n",
    "            M = max(Score(alignment[i], alignment[i], similarityMatrix, gap), Score(alignment[j], alignment[j], similarityMatrix, gap))\n",
    "            A[i,j] = M - Score(alignment[i], alignment[j], similarityMatrix, gap) #the smaler value the more similar sequences are\n",
    "    return A\n",
    "\n",
    "#Remark: for the simplicity we assumed the same gap penalty for insertion and extension"
   ]
  },
  {
   "cell_type": "code",
   "execution_count": 46,
   "metadata": {},
   "outputs": [
    {
     "name": "stdout",
     "output_type": "stream",
     "text": [
      "0 MALWMRLLPLLALLALWGPDPAAAFVNQHLCGSHLVEALYLVCGERGFFYTPKTRREAEDLQVGQVELGGGP--G-AGSL--QPLALEGSLQKRGIVEQCCTSICSLYQLENYCN\n",
      "1 MALWMRFLPLLALLFLWESHPTQAFVKQHLCGSHLVEALYLVCGERGFFYTPMSRREVEDPQVAQLELGGGP--G-AGDL--QTLALEVAQQKRGIVDQCCTSICSLYQLENYCN\n",
      "2 MALWIRFLPLLALLILWEPRPAQAFVKQHLCGSHLVEALYLVCGERGFFYTPMSRREVEDPQVAQLELGGGP--G-AGDL--QTLALEVARQKRGIVDQCCTSICSLYQLENYCN\n",
      "3 MALWIRSLPLLALLVFSGPGTSYAAANQHLCGSHLVEALYLVCGERGFFYSPKARRDVEQPLVS------SPLRGEAGVLPFQQEEYE--KVKRGIVEQCCHNTCSLYQLENYCN\n"
     ]
    }
   ],
   "source": [
    "organisms = [\"human\",\"mouse\",\"rat\",\"chicken\"]\n",
    "\n",
    "insuline = [\"MALWMRLLPLLALLALWGPDPAAAFVNQHLCGSHLVEALYLVCGERGFFYTPKTRREAEDLQVGQVELGGGPGAGSLQPLALEGSLQKRGIVEQCCTSICSLYQLENYCN\",\n",
    "         \"MALWMRFLPLLALLFLWESHPTQAFVKQHLCGSHLVEALYLVCGERGFFYTPMSRREVEDPQVAQLELGGGPGAGDLQTLALEVAQQKRGIVDQCCTSICSLYQLENYCN\",\n",
    "         \"MALWIRFLPLLALLILWEPRPAQAFVKQHLCGSHLVEALYLVCGERGFFYTPMSRREVEDPQVAQLELGGGPGAGDLQTLALEVARQKRGIVDQCCTSICSLYQLENYCN\",\n",
    "         \"MALWIRSLPLLALLVFSGPGTSYAAANQHLCGSHLVEALYLVCGERGFFYSPKARRDVEQPLVSSPLRGEAGVLPFQQEEYEKVKRGIVEQCCHNTCSLYQLENYCN\"]\n",
    "\n",
    "align = ProfileMultipleAlignment(insuline, BLOSUM62)\n",
    "\n",
    "for k, seq in enumerate(align):\n",
    "    print(k, seq)"
   ]
  },
  {
   "cell_type": "code",
   "execution_count": 41,
   "metadata": {},
   "outputs": [
    {
     "data": {
      "text/plain": [
       "['MALWMRLLPLLALLALWGPDPAAAFVNQHLCGSHLVEALYLVCGERGFFYTPKTRREAEDLQVGQVELGGGP--G-AGSL--QPLALEGSLQKRGIVEQCCTSICSLYQLENYCN',\n",
       " 'MALWMRFLPLLALLFLWESHPTQAFVKQHLCGSHLVEALYLVCGERGFFYTPMSRREVEDPQVAQLELGGGP--G-AGDL--QTLALEVAQQKRGIVDQCCTSICSLYQLENYCN',\n",
       " 'MALWIRFLPLLALLILWEPRPAQAFVKQHLCGSHLVEALYLVCGERGFFYTPMSRREVEDPQVAQLELGGGP--G-AGDL--QTLALEVARQKRGIVDQCCTSICSLYQLENYCN',\n",
       " 'MALWIRSLPLLALLVFSGPGTSYAAANQHLCGSHLVEALYLVCGERGFFYSPKARRDVEQPLVS------SPLRGEAGVLPFQQEEYE--KVKRGIVEQCCHNTCSLYQLENYCN']"
      ]
     },
     "execution_count": 41,
     "metadata": {},
     "output_type": "execute_result"
    }
   ],
   "source": [
    "align"
   ]
  },
  {
   "cell_type": "code",
   "execution_count": 42,
   "metadata": {},
   "outputs": [
    {
     "name": "stdout",
     "output_type": "stream",
     "text": [
      "[[  0. 114. 103. 239.]\n",
      " [114.   0.  32. 256.]\n",
      " [103.  32.   0. 236.]\n",
      " [239. 256. 236.   0.]]\n"
     ]
    }
   ],
   "source": [
    "print(SimMatrix(align, BLOSUM62)) #Similarity matrix for insuline sequences"
   ]
  },
  {
   "cell_type": "markdown",
   "metadata": {},
   "source": [
    "<h4> Phylogenetic trees using UPGMA method"
   ]
  },
  {
   "cell_type": "code",
   "execution_count": 43,
   "metadata": {},
   "outputs": [
    {
     "data": {
      "image/png": "[encoded data removed]",
      "text/plain": [
       "<Figure size 2000x500 with 1 Axes>"
      ]
     },
     "metadata": {},
     "output_type": "display_data"
    }
   ],
   "source": [
    "import numpy as np\n",
    "import matplotlib.pyplot as plt\n",
    "from scipy.cluster.hierarchy import dendrogram, linkage #to generate a tree\n",
    "from scipy.spatial.distance import pdist  #to prepare an approprite format\n",
    "\n",
    "X = pdist(SimMatrix(align, BLOSUM62)) \n",
    "dist = linkage(X, method=\"average\")  #average = UPGMA method\n",
    "\n",
    "\n",
    "fig = plt.figure(figsize=(20, 5))\n",
    "dn = dendrogram(dist, labels = organisms, orientation = \"left\")\n",
    "plt.show()"
   ]
  },
  {
   "cell_type": "markdown",
   "metadata": {},
   "source": [
    "<h3> Free-alignment methods and phylogeny"
   ]
  },
  {
   "cell_type": "markdown",
   "metadata": {},
   "source": [
    "<h4> Exercise9: Define a function $MerMatrix$ that takes a list of sequences and returns a matrix of distances between them (see Lecture 2, $k\\_comparison$ function). Use this matrix to generate a phylogenetic tree for insuline sequences."
   ]
  },
  {
   "cell_type": "code",
   "execution_count": 44,
   "metadata": {},
   "outputs": [],
   "source": [
    "def MerMatrix(seqs):\n",
    "    n = len(seqs)\n",
    "    dist_matrix = [[0] * n for i in range(n)]\n",
    "    \n",
    "    for i in range(n):\n",
    "        for j in range(i+1, n):\n",
    "            dist = k_comparison(seqs[i], seqs[j])\n",
    "            dist_matrix[i][j] = dist\n",
    "            dist_matrix[j][i] = dist\n",
    "    \n",
    "    return dist_matrix\n",
    "\n",
    "    "
   ]
  },
  {
   "cell_type": "code",
   "execution_count": 47,
   "metadata": {},
   "outputs": [
    {
     "data": {
      "text/plain": [
       "[[0, 5.66, 5.57, 6.32],\n",
       " [5.66, 0, 6.56, 7.07],\n",
       " [5.57, 6.56, 0, 5.2],\n",
       " [6.32, 7.07, 5.2, 0]]"
      ]
     },
     "execution_count": 47,
     "metadata": {},
     "output_type": "execute_result"
    }
   ],
   "source": [
    "MerMatrix(sequences)"
   ]
  },
  {
   "cell_type": "code",
   "execution_count": 48,
   "metadata": {},
   "outputs": [
    {
     "data": {
      "image/png": "[encoded data removed]",
      "text/plain": [
       "<Figure size 2000x500 with 1 Axes>"
      ]
     },
     "metadata": {},
     "output_type": "display_data"
    }
   ],
   "source": [
    "import numpy as np\n",
    "import matplotlib.pyplot as plt\n",
    "from scipy.cluster.hierarchy import dendrogram, linkage #to generate a tree\n",
    "from scipy.spatial.distance import pdist  #to prepare an approprite format\n",
    "\n",
    "X = pdist(MerMatrix(sequences)) \n",
    "dist = linkage(X, method=\"average\")  #average = UPGMA method\n",
    "\n",
    "\n",
    "fig = plt.figure(figsize=(20, 5))\n",
    "dn = dendrogram(dist, labels = organisms, orientation = \"left\")\n",
    "plt.show()"
   ]
  },
  {
   "cell_type": "markdown",
   "metadata": {},
   "source": [
    "<h4> Exercise10: Define a function $LZMatrix$ that takes a list of sequences and returns a matrix of distances between them (see Lecture 2, $words\\_comparison$ function). Use this matrix to generate a phylogenetic tree for insuline sequences."
   ]
  },
  {
   "cell_type": "code",
   "execution_count": 54,
   "metadata": {},
   "outputs": [],
   "source": [
    "def WordSeq(seq):\n",
    "    d=[]\n",
    "    l=len(seq)\n",
    "    i=0\n",
    "    k=1\n",
    "    n=0\n",
    "    while i<l:\n",
    "        while seq[i:i+k] in d and i+k<l:#Everytime the word is already in the list, k+=1 -> the function check with the next letter\n",
    "            k+=1\n",
    "        if seq[i:i+k] not in d:     \n",
    "            d.append(seq[i:i+k])  #When the word isn't in d, the loop stops and the word is put into the list\n",
    "        i+=k  #i becomes i+k to start to read again after the words that was already added\n",
    "        k=1#we set again the value of k to 1 so that when the loops start again it start to check if the next letter is in the list    \n",
    "    return d\n",
    "def words_comparison(seq1, seq2):\n",
    "    l1 = len(WordSeq(seq1))\n",
    "    l2 = len(WordSeq(seq2))\n",
    "    l3 = len(WordSeq(seq1+seq2))\n",
    "    C = (l3 - min(l1,l2))/max(l1,l2)\n",
    "    return C"
   ]
  },
  {
   "cell_type": "code",
   "execution_count": 55,
   "metadata": {},
   "outputs": [],
   "source": [
    "def LZMatrix(seqs):\n",
    "    n = len(seqs)\n",
    "    dist_matrix = [[0] * n for i in range(n)]\n",
    "    \n",
    "    for i in range(n):\n",
    "        for j in range(i+1, n):\n",
    "            dist = words_comparison(seqs[i], seqs[j])\n",
    "            dist_matrix[i][j] = dist\n",
    "            dist_matrix[j][i] = dist\n",
    "    \n",
    "    return dist_matrix\n",
    "\n",
    "    "
   ]
  },
  {
   "cell_type": "code",
   "execution_count": 56,
   "metadata": {},
   "outputs": [
    {
     "data": {
      "image/png": "[encoded data removed]",
      "text/plain": [
       "<Figure size 2000x500 with 1 Axes>"
      ]
     },
     "metadata": {},
     "output_type": "display_data"
    }
   ],
   "source": [
    "X = pdist(LZMatrix(sequences)) \n",
    "dist = linkage(X, method=\"average\")  #average = UPGMA method\n",
    "\n",
    "\n",
    "fig = plt.figure(figsize=(20, 5))\n",
    "dn = dendrogram(dist, labels = organisms, orientation = \"left\")\n",
    "plt.show()"
   ]
  },
  {
   "cell_type": "code",
   "execution_count": null,
   "metadata": {},
   "outputs": [],
   "source": []
  }
 ],
 "metadata": {
  "kernelspec": {
   "display_name": "Python 3 (ipykernel)",
   "language": "python",
   "name": "python3"
  },
  "language_info": {
   "codemirror_mode": {
    "name": "ipython",
    "version": 3
   },
   "file_extension": ".py",
   "mimetype": "text/x-python",
   "name": "python",
   "nbconvert_exporter": "python",
   "pygments_lexer": "ipython3",
   "version": "3.9.13"
  }
 },
 "nbformat": 4,
 "nbformat_minor": 2
}
